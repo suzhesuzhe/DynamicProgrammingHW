{
 "cells": [
  {
   "cell_type": "code",
   "execution_count": 110,
   "metadata": {},
   "outputs": [],
   "source": [
    "import numpy as np\n",
    "import tensorflow.compat.v1 as tf\n",
    "from math import sqrt\n",
    "import matplotlib.pyplot as plt\n",
    "\n",
    "\n",
    "\n",
    "def sample_jester_data(file_name, context_dim = 32, num_actions = 8, num_contexts = 19181, \\\n",
    "                       shuffle_rows=True, shuffle_cols=False):\n",
    "    \"\"\"Samples bandit game from (user, joke) dense subset of Jester dataset. \n",
    "    Args:\n",
    "        file_name: Route of file containing the modified Jester dataset. \n",
    "        context_dim: Context dimension (i.e. vector with some ratings from a user). \n",
    "        num_actions: Number of actions (number of joke ratings to predict). \n",
    "        num_contexts: Number of contexts to sample.\n",
    "        shuffle_rows: If True, rows from original dataset are shuffled. \n",
    "        shuffle_cols: Whether or not context/action jokes are randomly shuffled.\n",
    "    Returns:\n",
    "        dataset: Sampled matrix with rows: (context, rating_1, ..., rating_k). \n",
    "        opt_vals: Vector of deterministic optimal (reward, action) for each context.\n",
    "    \"\"\"\n",
    "    np.random.seed(0)\n",
    "    with tf.gfile.Open(file_name, 'rb') as f:\n",
    "        dataset = np.load(f)\n",
    "        \n",
    "    if shuffle_cols:\n",
    "        dataset = dataset[:, np.random.permutation(dataset.shape[1])]\n",
    "    if shuffle_rows: \n",
    "        np.random.shuffle(dataset)\n",
    "    dataset = dataset[:num_contexts, :]\n",
    "        \n",
    "    assert context_dim + num_actions == dataset.shape[1], 'Wrong data dimensions.'\n",
    "    \n",
    "    opt_actions = np.argmax(dataset[:, context_dim:], axis=1)\n",
    "    opt_rewards = np.array([dataset[i, context_dim + a] for i, a in enumerate(opt_actions)]) \n",
    "    return dataset, opt_rewards, opt_actions"
   ]
  },
  {
   "cell_type": "code",
   "execution_count": 121,
   "metadata": {},
   "outputs": [],
   "source": [
    "class linUCB:\n",
    "\n",
    "    def __init__(self, n_context, n_action, alpha):\n",
    "        \n",
    "        self.n_action = n_action\n",
    "        self.n_context = n_context\n",
    "        # D'D + I, dimension n_action by n_context by n_context\n",
    "        self.A_inv = [np.identity(n_context) for _ in range(n_action)]\n",
    "        \n",
    "        #D'r dimenion n_action by n_context by 1\n",
    "        self.b = np.zeros((n_action, n_context, 1))\n",
    "        \n",
    "        self.theta = np.zeros((n_action, n_context, 1))\n",
    "        \n",
    "        self.alpha = alpha\n",
    "    \n",
    "    def oneStepTraining(self, x, reward):\n",
    "        #calculate the upper ci based on the context\n",
    "        upper_vector = np.zeros(self.n_action)\n",
    "        \n",
    "        for a in range(self.n_action):\n",
    "            a_ci_half = self.alpha * sqrt(x.dot(self.A_inv[a]).dot(x))\n",
    "            a_mean = np.dot(np.squeeze(self.theta[a]), x)\n",
    "            upper_vector[a] = a_mean + a_ci_half\n",
    "        \n",
    "        upper_vector += np.random.random(self.n_action)* 0.000001\n",
    "        ac = upper_vector.argmax()\n",
    "        re = reward[ac]\n",
    "        \n",
    "        #update theta\n",
    "        self.A_inv[ac] -= (self.A_inv[ac].dot(np.outer(x,x)).dot(self.A_inv[ac]))/(1+x.dot(self.A_inv[ac]).dot(x))\n",
    "        self.b[ac] += np.reshape(re * x, (-1,1))\n",
    "        self.theta[ac] = self.A_inv[ac].dot(self.b[ac])                  \n",
    "        \n",
    "    def regret(self, context_test,context_reward):\n",
    "        choice = np.zeros(context_test.shape[0])\n",
    "        re = 0\n",
    "        for ind in range(context_test.shape[0]):\n",
    "            a_mean = np.zeros(self.n_action)\n",
    "            for a in range(self.n_action):\n",
    "                a_mean[a] = np.dot(np.squeeze(self.theta[a]), context_test[ind])\n",
    "        \n",
    "            a_mean += np.random.random(self.n_action)* 0.000001\n",
    "            ac = a_mean.argmax()\n",
    "            re += context_reward[ind][ac]\n",
    "        return np.sum(context_reward.max(axis = 1)) - re\n",
    "            \n",
    "        \n",
    "            \n",
    "    "
   ]
  },
  {
   "cell_type": "code",
   "execution_count": 133,
   "metadata": {},
   "outputs": [],
   "source": [
    "dataset, opt_rewards, opt_actions = sample_jester_data('jester_data_40jokes_19181users.npy')\n",
    "context_train = dataset[:18000,:32]\n",
    "reward_train = dataset[:18000, 32:]\n",
    "context_test = dataset[18000:,:32]\n",
    "reward_test= dataset[18000:, 32:]\n",
    "\n",
    "linucb = linUCB(n_context=32, n_action=8, alpha=0.2)\n",
    "\n",
    "regret_seq = []\n",
    "\n",
    "for ind in range(context_train.shape[0]):\n",
    "    \n",
    "    linucb.oneStepTraining(context_train[ind], reward_train[ind])\n",
    "    if ind % 100 == 0:\n",
    "        #print(ind)\n",
    "        regret_seq.append(linucb.regret(context_test, reward_test))\n",
    "        \n"
   ]
  },
  {
   "cell_type": "code",
   "execution_count": 134,
   "metadata": {},
   "outputs": [
    {
     "data": {
      "text/plain": [
       "Text(0, 0.5, 'Regret')"
      ]
     },
     "execution_count": 134,
     "metadata": {},
     "output_type": "execute_result"
    },
    {
     "data": {
      "image/png": "[encoded data removed]",
      "text/plain": [
       "<Figure size 432x288 with 1 Axes>"
      ]
     },
     "metadata": {
      "needs_background": "light"
     },
     "output_type": "display_data"
    }
   ],
   "source": [
    "fig, ax = plt.subplots(1,1)\n",
    "ax.plot(range(len(regret_seq)), regret_seq)\n",
    "ax.set_title('The Regret Decrease Along the Training Process')\n",
    "ax.set_xlabel('The training steps(100 contexts)')\n",
    "ax.set_ylabel('Regret')"
   ]
  },
  {
   "cell_type": "code",
   "execution_count": null,
   "metadata": {},
   "outputs": [],
   "source": []
  }
 ],
 "metadata": {
  "kernelspec": {
   "display_name": "Python 3",
   "language": "python",
   "name": "python3"
  },
  "language_info": {
   "codemirror_mode": {
    "name": "ipython",
    "version": 3
   },
   "file_extension": ".py",
   "mimetype": "text/x-python",
   "name": "python",
   "nbconvert_exporter": "python",
   "pygments_lexer": "ipython3",
   "version": "3.7.6"
  }
 },
 "nbformat": 4,
 "nbformat_minor": 4
}
