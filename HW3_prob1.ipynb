{
 "cells": [
  {
   "cell_type": "code",
   "execution_count": 4,
   "metadata": {},
   "outputs": [
    {
     "name": "stdout",
     "output_type": "stream",
     "text": [
      "2.3.1\n"
     ]
    }
   ],
   "source": [
    "import tensorflow.compat.v1 as tf\n",
    "import matplotlib.pyplot as plt\n",
    "import numpy as np\n",
    "from collections import deque\n",
    "import gym\n",
    "tf.disable_eager_execution()\n",
    "print(tf.__version__)\n",
    "\n",
    "import os\n",
    "#os.environ['COLAB_SKIP_TPU_AUTH'] = '1'\n",
    "os.environ['TF_CPP_MIN_LOG_LEVEL'] = '2'\n"
   ]
  },
  {
   "cell_type": "code",
   "execution_count": 14,
   "metadata": {},
   "outputs": [
    {
     "data": {
      "text/plain": [
       "['NOOP', 'FIRE', 'RIGHT', 'LEFT']"
      ]
     },
     "execution_count": 14,
     "metadata": {},
     "output_type": "execute_result"
    }
   ],
   "source": [
    "env = gym.make('Breakout-v0')\n",
    "obs = env.reset()\n",
    "env.action_space.n\n",
    "env.unwrapped.get_action_meanings()"
   ]
  },
  {
   "cell_type": "markdown",
   "metadata": {},
   "source": [
    "# Constructing the Network, Training Graph, Inference Graph"
   ]
  },
  {
   "cell_type": "code",
   "execution_count": 15,
   "metadata": {},
   "outputs": [],
   "source": [
    "#define the network, though it is (state, action) --> value, we use the s --> a network\n",
    "#this comes before the exploration function, because the exploration need to the Q-factor function to determine\n",
    "#where to go, either with greedy step, or the epsilon-greedy step\n",
    "\n",
    "conv_filter = [32,64,64]\n",
    "conv_kernelSize = [(8,8), (4,4), (3,3)]\n",
    "conv_strides = [4,2,1]\n",
    "conv_paddings = [\"SAME\"] * 3\n",
    "conv_activations = [tf.nn.relu] * 3\n",
    "n_hidden = 512\n",
    "n_outputs = env.action_space.n  #this is suppose to change, since there are only two actions\n",
    "initializer = tf.variance_scaling_initializer(scale = 2)\n",
    "learning_rate = 0.1\n",
    "\n",
    "def construct_graph(x_state,name):\n",
    "    prev_layer = x_state\n",
    "    with tf.variable_scope(name) as scope:\n",
    "        for i in range(3):\n",
    "            prev_layer = tf.layers.conv2d(prev_layer, \n",
    "                                     filters = conv_filter[i],\n",
    "                                     kernel_size = conv_kernelSize[i],\n",
    "                                     strides = conv_strides[i],\n",
    "                                     padding = conv_paddings[i],\n",
    "                                     activation = conv_activations[i],\n",
    "                                     kernel_initializer = initializer)\n",
    "        conv_to_flatten = tf.layers.flatten(prev_layer)\n",
    "        dense = tf.layers.dense(conv_to_flatten, n_hidden, activation = tf.nn.relu,\n",
    "                               kernel_initializer = initializer)\n",
    "        outputs = tf.layers.dense(dense, n_outputs, activation = None,\n",
    "                               kernel_initializer = initializer)\n",
    "    trainable_vars = tf.get_collection(tf.GraphKeys.TRAINABLE_VARIABLES, scope = scope.name)\n",
    "    trainable_vars_by_name = {var.name[len(scope.name):]: var for var in trainable_vars}\n",
    "    \n",
    "    return outputs, trainable_vars_by_name\n",
    "\n",
    "\n",
    "#construct the training(online) network and the inference(target) graph\n",
    "tf.reset_default_graph()\n",
    "\n",
    "xstate = tf.placeholder(tf.float64, shape = [None, 80, 80, 1])\n",
    "train_output, train_vars = construct_graph(xstate, 'q_network/train')\n",
    "infer_output, infer_vars = construct_graph(xstate, 'q_network/infer')\n",
    "                        \n",
    "copy_ops = [infer_var.assign(train_vars[var_name]) for var_name, infer_var in infer_vars.items()]\n",
    "copy_trainToInfer = tf.group(*copy_ops)\n",
    "\n",
    "#a very small gradient clipper function\n",
    "\n",
    "\n",
    "#define the training network\n",
    "with tf.variable_scope('train'):\n",
    "    X_action = tf.placeholder(tf.float64, shape = [None, n_outputs])\n",
    "    y = tf.placeholder(tf.float64, shape = [None,1])\n",
    "    \n",
    "    qvalue = tf.reduce_sum(train_output * X_action, axis = 1, keepdims = True)\n",
    "    error = tf.abs(y - qvalue)\n",
    "    clipped_error = tf.clip_by_value(error, 0.0,1.0)\n",
    "    linear_error = 2*(error - clipped_error)\n",
    "    loss = tf.reduce_mean(tf.square(clipped_error) + linear_error)\n",
    "    \n",
    "    opt = tf.train.MomentumOptimizer(learning_rate = learning_rate,\n",
    "                                    momentum = 0.95,\n",
    "                                    use_nesterov=True)\n",
    "    \n",
    "    \n",
    "    train_op = opt.minimize(loss)\n",
    "\n",
    "    \n",
    "\n",
    "saver = tf.train.Saver()"
   ]
  },
  {
   "cell_type": "markdown",
   "metadata": {},
   "source": [
    "# The replay buffer class, could preprocess, explore, sample"
   ]
  },
  {
   "cell_type": "code",
   "execution_count": 7,
   "metadata": {},
   "outputs": [],
   "source": [
    "#the exploration function, generate (s,a,r,s') which will be put in the replay buffer\n",
    "#to decide which a|s, choose between greedy or epsilon greedy\n",
    "\n",
    "#the buffer class that that will have a replay buffer that enable sampling from it for (s, a ,r ,s')\n",
    "# it will have method as 1, append new epsiode to the buffer 2, sample a batch giving batch size\n",
    "\n",
    "class replayBuffer:\n",
    "    def __init__(self, maxlen):\n",
    "        self.buffer = deque(maxlen = maxlen)\n",
    "        self.maxlen = maxlen #in case need to check later, but no use in computation\n",
    "        \n",
    "    def preprocess(self, image):\n",
    "        \"\"\" prepro 210x160x3 uint8 frame into 6400 (80x80) 2D float array \"\"\" \n",
    "        image = image[35:195] # crop\n",
    "        image = image[::2,::2,0] # downsample by factor of 2\n",
    "        image[image == 144] = 0 # erase background (background type 1) \n",
    "        image[image == 109] = 0 # erase background (background type 2) \n",
    "        image[image != 0] = 1 # everything else just set to 1\n",
    "        return np.reshape(image.astype(np.float).ravel(), [80,80,1])\n",
    "    \n",
    "    def epsilon_greedy(self, q_factor, epsilon):\n",
    "        if np.random.choice([0,1],size = 1, p = [1-epsilon, epsilon]) > 0:\n",
    "            action = np.random.randint(len(q_factor), size = 1)\n",
    "            #print(q_factor)\n",
    "            #print('length of qfactor {:d}, random action {:d}'.format(len(q_factor), action[0]))\n",
    "        else:\n",
    "            action = np.argmax(q_factor)\n",
    "        return action\n",
    "        \n",
    "        \n",
    "    #play epiToUpdate full games\n",
    "    def updateBuffer(self, epiToUpdate, train_q_factor, epsilon, start_skip):\n",
    "        #epiToUpdate, the number of full episode to sample \n",
    "        #train_q_factor, is the output node from the trainiing graph, \n",
    "        #epsilon: the epsilon parameter in the epsilon greedy algorithm\n",
    "        #the number of start steps will be skipped and not join the buffer\n",
    "        epiUpdated = 0\n",
    "        while epiUpdated < epiToUpdate:\n",
    "            #initialize the game\n",
    "            next_state = env.reset()\n",
    "            \n",
    "            done = False \n",
    "            # to skip the first several steps not joining the buffer\n",
    "            # if the game stopped earlier, break the initial warm up and break the whole epi\n",
    "            for _ in range(start_skip):\n",
    "                next_state, reward, done, info = env.step(0)\n",
    "                if done:\n",
    "                    print(\"An episode is skipped due to the game ends before warm up finishes\")\n",
    "                    break\n",
    "            \n",
    "            #if after the warm up the episode not end, then count this episode\n",
    "            if not done:\n",
    "                epiUpdated += 1\n",
    "                \n",
    "                \n",
    "            cur_state = self.preprocess(next_state)\n",
    "            \n",
    "            total_q_max = 0\n",
    "            total_reward = 0\n",
    "            game_length = 0\n",
    "            \n",
    "                \n",
    "            while not done:\n",
    "                \n",
    "                q_factor = train_q_factor.eval(feed_dict={xstate: [cur_state]})[0]\n",
    "                action= self.epsilon_greedy(q_factor, epsilon)\n",
    "            \n",
    "                action_onehot = np.zeros(train_q_factor.shape[1])\n",
    "                action_onehot[action] = 1\n",
    "               \n",
    "                #even though the epsilon greedy might not take this action, \n",
    "                #we take the greedy reward to measure performance\n",
    "                total_q_max += np.max(q_factor)\n",
    "                \n",
    "                #!!!!!!!!!this +2 is due to the property of action indices\n",
    "                next_state, reward, done, info = env.step(action) \n",
    "                next_state = self.preprocess(next_state)\n",
    "            #print(done)\n",
    "                self.buffer.append([cur_state, action_onehot, reward, next_state, done])\n",
    "                cur_state = next_state\n",
    "                total_reward += reward\n",
    "                game_length += 1\n",
    "                \n",
    "            \n",
    "            \n",
    "        if epiToUpdate == 1:\n",
    "            return game_length, total_q_max/game_length, total_reward/game_length\n",
    "                \n",
    "            \n",
    "        \n",
    "    def sample(self, batch_size, replace = True):\n",
    "        cols = [[],[],[],[],[]]\n",
    "        indices = np.random.choice(a = len(self.buffer), size = batch_size, replace = replace)\n",
    "        for ind in indices:\n",
    "            for col, value in zip(cols, self.buffer[ind]):\n",
    "                col.append(value)\n",
    "        cols = [np.array(col) for col in cols]\n",
    "        return cols[0], cols[1], cols[2].reshape(-1,1), cols[3], cols[4].reshape(-1,1)\n"
   ]
  },
  {
   "cell_type": "markdown",
   "metadata": {},
   "source": [
    "# The main file for training"
   ]
  },
  {
   "cell_type": "code",
   "execution_count": 8,
   "metadata": {},
   "outputs": [],
   "source": [
    "#for step_level1:\n",
    "    #expand the buffer by epsilon gready algrithm\n",
    "    #for step_level2:\n",
    "        #assign train var to infer var\n",
    "        #for step_level3:\n",
    "            #sample batch size from buffer\n",
    "            #update the train var\n",
    "\n",
    "buffer_size = 50000\n",
    "start_skip = 90\n",
    "batch_size = 500\n",
    "step_level1 = 1 #play game number\n",
    "step_level2 = 5 # update inference\n",
    "step_level3 = 5 # gradient step\n",
    "discount = 0.95\n",
    "checkpoint_path = './my_dgn.ckpt'  \n",
    "\n",
    "\n",
    "with tf.Session() as sess:\n",
    "    #initialize all the graphs\n",
    "    \n",
    "    if os.path.isfile(checkpoint_path + '.index'):\n",
    "        saver.restore(sess, checkpoint_path)\n",
    "        print('restore from file')\n",
    "    else:\n",
    "        init = tf.global_variables_initializer()\n",
    "        init.run()\n",
    "        copy_trainToInfer.run()\n",
    "    \n",
    "    #construct the buffer\n",
    "    replay_buff = replayBuffer(buffer_size)\n",
    "    #since warm up, the epsilon = 1, i.e taking uniform random actions\n",
    "    replay_buff.updateBuffer(5, train_output, epsilon = 1, start_skip = 0)\n",
    "    #print('Initial run 5 full games and now the buffer has {:d} memory'.format(len(replay_buff.buffer)))\n",
    "    \n",
    "    score_seq = []\n",
    "    count1 = 0\n",
    "    for _ in range(step_level1):\n",
    "        \n",
    "        count1 += 1\n",
    "        \n",
    "        # the decreasing epsilon greedy strategy when training proceed, highest epi = 0.5\n",
    "        cur_epsilon = 0.5 * (1 - count1/step_level1)\n",
    "        \n",
    "        gamelen, score, re = replay_buff.updateBuffer(1, train_output, epsilon = cur_epsilon, start_skip = start_skip)\n",
    "        \n",
    "        \n",
    "        #print('Play game {:d}({:.02%}); game length: {:d}; average qfactor: {:f}; average reward: {:f}; buffer size: {:d}'.format(count1,\\\n",
    "        #                                        count1/step_level1, gamelen, score, re, len(replay_buff.buffer)))\n",
    "        score_seq.append(score)\n",
    "        \n",
    "        \n",
    "        for _ in range(step_level2):\n",
    "            # update the inference graph as the train graph\n",
    "            copy_trainToInfer.run()\n",
    "            \n",
    "            \n",
    "            for _ in range(step_level3):\n",
    "                #sample batch_size from the buffer        \n",
    "                cur_state, action, reward, next_state, status = replay_buff.sample(batch_size, replace = True)\n",
    "                \n",
    "                #print(nextstate.dtype)\n",
    "                #print(type(nextstate))\n",
    "                #print(nextstate.shape)\n",
    "                \n",
    "                next_q_value = sess.run(infer_output, feed_dict = {xstate: next_state})\n",
    "                max_next_q_value = np.max(next_q_value, axis = 1, keepdims = True)\n",
    "                y_val = reward + status * discount * max_next_q_value\n",
    "                \n",
    "                #print(action.shape)\n",
    "                ##print(cur_state)\n",
    "                #print(y_val)\n",
    "                \n",
    "                sess.run([train_op], feed_dict={xstate: cur_state,\n",
    "                                                X_action: action,\n",
    "                                                y:y_val})\n",
    "        \n",
    "        if count1 % 100 == 0:\n",
    "            saver.save(sess, checkpoint_path)\n",
    "                \n",
    "                \n",
    "\n",
    "    \n",
    "    \n",
    "    \n",
    "    \n",
    "    \n",
    "    \n",
    "    \n",
    "    \n",
    "    \n",
    "    "
   ]
  },
  {
   "cell_type": "markdown",
   "metadata": {},
   "source": [
    "# After training, play  the game using the trained network"
   ]
  },
  {
   "cell_type": "code",
   "execution_count": 32,
   "metadata": {},
   "outputs": [],
   "source": [
    "import pickle\n",
    "temp1 = pickle.load( open( \"./HW3/problem1.pickle\", \"rb\" ) )\n",
    "\n",
    "qFactor = temp1[0]\n",
    "reward = temp1[1]\n",
    "\n"
   ]
  },
  {
   "cell_type": "code",
   "execution_count": 17,
   "metadata": {},
   "outputs": [
    {
     "name": "stdout",
     "output_type": "stream",
     "text": [
      "True\n",
      "INFO:tensorflow:Restoring parameters from ./HW3/problem1.ckpt\n",
      "restored from the file\n"
     ]
    }
   ],
   "source": []
  },
  {
   "cell_type": "code",
   "execution_count": 19,
   "metadata": {},
   "outputs": [],
   "source": [
    "replay_buff = replayBuffer(100)\n"
   ]
  },
  {
   "cell_type": "code",
   "execution_count": 27,
   "metadata": {},
   "outputs": [],
   "source": [
    "def playGame():\n",
    "        \n",
    "    cur_state = replay_buff.preprocess(env.reset())\n",
    "            \n",
    "    done = False \n",
    "           \n",
    "    total_reward = 0\n",
    "           \n",
    "                \n",
    "    while not done:\n",
    "                \n",
    "        q_factor = train_output.eval(feed_dict={xstate: [cur_state]})[0]\n",
    "        action= np.argmax(q_factor)\n",
    "            \n",
    "        action_onehot = np.zeros(train_output.shape[1])\n",
    "        action_onehot[action] = 1\n",
    "               \n",
    "                \n",
    "        #!!!!!!!!!this +2 is due to the property of action indices\n",
    "        next_state, reward, done, info = env.step(action) \n",
    "        next_state = replay_buff.preprocess(next_state)\n",
    "           \n",
    "        cur_state = next_state\n",
    "        total_reward += reward\n",
    "    return reward    \n",
    "                \n",
    "\n",
    "                "
   ]
  },
  {
   "cell_type": "code",
   "execution_count": 30,
   "metadata": {},
   "outputs": [
    {
     "name": "stdout",
     "output_type": "stream",
     "text": [
      "True\n",
      "INFO:tensorflow:Restoring parameters from ./HW3/problem1.ckpt\n",
      "restored from the file\n"
     ]
    }
   ],
   "source": [
    "with tf.Session() as sess:\n",
    "    if os.path.isfile('./HW3/problem1.ckpt.index'):\n",
    "        print(True)\n",
    "        saver.restore(sess, './HW3/problem1.ckpt')\n",
    "        print('restored from the file')\n",
    "    \n",
    "    score_seq = []\n",
    "    for _ in range(1000):\n",
    "        score_seq.append(playGame())"
   ]
  },
  {
   "cell_type": "code",
   "execution_count": 37,
   "metadata": {},
   "outputs": [
    {
     "data": {
      "image/png": "[encoded data removed]",
      "text/plain": [
       "<Figure size 1332x396 with 3 Axes>"
      ]
     },
     "metadata": {
      "needs_background": "light"
     },
     "output_type": "display_data"
    }
   ],
   "source": [
    "fig, ax = plt.subplots(1,3)\n",
    "fig.set_size_inches(18.5, 5.5)\n",
    "ax[0].plot(range(len(qFactor)), qFactor)\n",
    "ax[1].plot(range(len(reward)), reward)\n",
    "ax[2].plot(range(len(score_seq)), score_seq)\n",
    "\n",
    "ax[0].set_title('Q-Factor')\n",
    "ax[1].set_title('Reward')\n",
    "ax[2].set_title('1000 Games Rewards')\n",
    "\n",
    "\n",
    "plt.show()"
   ]
  },
  {
   "cell_type": "code",
   "execution_count": null,
   "metadata": {},
   "outputs": [],
   "source": []
  }
 ],
 "metadata": {
  "kernelspec": {
   "display_name": "Python 3",
   "language": "python",
   "name": "python3"
  },
  "language_info": {
   "codemirror_mode": {
    "name": "ipython",
    "version": 3
   },
   "file_extension": ".py",
   "mimetype": "text/x-python",
   "name": "python",
   "nbconvert_exporter": "python",
   "pygments_lexer": "ipython3",
   "version": "3.7.6"
  }
 },
 "nbformat": 4,
 "nbformat_minor": 4
}
